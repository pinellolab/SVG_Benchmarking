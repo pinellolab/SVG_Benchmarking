{
 "cells": [
  {
   "cell_type": "code",
   "execution_count": 1,
   "id": "055c9553-b62c-40ba-ac62-2704feaa9f16",
   "metadata": {},
   "outputs": [],
   "source": [
    "import warnings\n",
    "warnings.filterwarnings('ignore')\n",
    "\n",
    "import os\n",
    "import numpy as np\n",
    "import pandas as pd\n",
    "import scanpy as sc\n",
    "import squidpy as sq\n",
    "import anndata as ad\n",
    "import scipy as sp"
   ]
  },
  {
   "cell_type": "code",
   "execution_count": 2,
   "id": "3557a306-f6af-44cd-9583-56c614a479ff",
   "metadata": {},
   "outputs": [],
   "source": [
    "input_dir = '../../results/01_generate_simulate_data'"
   ]
  },
  {
   "cell_type": "code",
   "execution_count": 3,
   "id": "f8a3f499-e5d4-4b35-a803-71c3333594a9",
   "metadata": {},
   "outputs": [],
   "source": [
    "# # 10X visium\n",
    "# dataset_list = [#'00_scDesign3_example_data',\n",
    "#                 '01_10x_Visium_mouse_brain',\n",
    "#                 '02_10x_Visium_Human_Heart_MI',\n",
    "#                 '03_10x_Visium_Human_Colorectal_Cancer',\n",
    "#                 '04_10x_Visium_Human_Heart',\n",
    "#                 '05_10x_Visium_Mouse_Embryo',\n",
    "#                 '06_10x_Visium_Mouse_Olfactory_Bulb',\n",
    "#                 '07_10x_Visium_Human_Breast_Cancer',\n",
    "#                 '08_10x_Visium_Human_Lymph_Node',\n",
    "#                 '09_10x_Visium_Human_Prostate',\n",
    "#                 '10_10x_Visium_Human_Prostate_Cancer',\n",
    "#                 '11_10x_Visium_Human_Cerebellum',\n",
    "#                 '12_10x_Visium_Mouse_Kidney',\n",
    "#                 '13_10x_Visium_Human_Lung_Cancer',\n",
    "#                 '14_10x_Visium_Human_Brain_Cancer',\n",
    "#                 '15_10x_Visium_Human_Kidney',\n",
    "#                 '16_10x_Visium_Human_Intestine_Cancer',\n",
    "#                 '17_10x_Visium_Human_Skin_Melanoma',\n",
    "#                 '18_10x_Visium_Human_Cervical_Cancer',\n",
    "#                 '19_10x_Visium_Human_Breast_Cancer',\n",
    "#                 '20_10x_Visium_Human_Heart_MI'\n",
    "#                ]"
   ]
  },
  {
   "cell_type": "code",
   "execution_count": 4,
   "id": "94dec766-ac67-4cd9-ba5a-aa1c3794e1b8",
   "metadata": {},
   "outputs": [],
   "source": [
    "# # Slide-seq V2\n",
    "# dataset_list = ['21_slide_seqv2_Mouse_Olfactory_Bulb',\n",
    "#                 '22_slide_seqv2_Mouse_Cortex',\n",
    "#                 '23_slide_seqv2_Mouse_Cerebellum',\n",
    "#                 '24_slide_seqv2_Mouse_Hippocampus',\n",
    "#                 '25_slide_seqv2_Mouse_SomatosensoryCortex'\n",
    "#                ]"
   ]
  },
  {
   "cell_type": "code",
   "execution_count": 5,
   "id": "a590b527-f874-4b84-84ce-88edb9e73602",
   "metadata": {},
   "outputs": [],
   "source": [
    "# # DBiT-seq\n",
    "# dataset_list = ['26_DBiT_seq_E10_brain',\n",
    "#                 '27_DBiT_seq_E10_eye',\n",
    "#                 '28_DBiT_seq_E10_whole',\n",
    "#                 '29_DBiT_seq_E11_lower_body',\n",
    "#                 '30_DBiT_seq_E11_FL_1L',\n",
    "#                 '31_DBiT_seq_E11_FL_2L'\n",
    "#                ]"
   ]
  },
  {
   "cell_type": "code",
   "execution_count": 6,
   "id": "62a470cd-bb48-438e-91af-8929c8ec10d4",
   "metadata": {},
   "outputs": [],
   "source": [
    "# # Xenium\n",
    "# dataset_list = ['32_10x_Xenium_Human_Colon_Cancer',\n",
    "#                 '33_10x_Xenium_Mouse_Brain'\n",
    "#                ]"
   ]
  },
  {
   "cell_type": "code",
   "execution_count": 7,
   "id": "cc232f87-283b-4e20-9f3c-b7c625ffb44d",
   "metadata": {},
   "outputs": [],
   "source": [
    "# # MERFISH\n",
    "# dataset_list = ['34_MERFISH_Human_cortex',\n",
    "#                 '35_MERFISH_Human_cortex',\n",
    "#                 '36_MERFISH_Human_cortex',\n",
    "#                 '37_MERFISH_Human_cortex',\n",
    "#                 '38_MERFISH_Mouse_cortex',\n",
    "#                ]"
   ]
  },
  {
   "cell_type": "code",
   "execution_count": 8,
   "id": "2a764c4a-7d2f-4361-969e-5c727217b6fa",
   "metadata": {},
   "outputs": [],
   "source": [
    "# # seqFISH\n",
    "# dataset_list = ['39_seqFISH_Mouse_Organogenesis',\n",
    "#                ]"
   ]
  },
  {
   "cell_type": "code",
   "execution_count": 9,
   "id": "226fecb8-9f0b-4310-8b37-de014ad70619",
   "metadata": {},
   "outputs": [],
   "source": [
    "# # Slide-tag\n",
    "# dataset_list = ['40_slide_tag_mouse_embryo',\n",
    "#                 '41_slide_tag_human_cortex',\n",
    "#                 '42_slide_tag_human_skin_melanoma',\n",
    "#                 '43_slide_tag_human_tonsil'\n",
    "#                ]"
   ]
  },
  {
   "cell_type": "code",
   "execution_count": 10,
   "id": "397a1394-2f2f-4947-a16c-b3a77e933545",
   "metadata": {},
   "outputs": [],
   "source": [
    "# Stereo-seq\n",
    "dataset_list = ['44_stereo_seq_Drosophila_embryo_E7',\n",
    "                '45_stereo_seq_Drosophila_embryo_E9.1',\n",
    "                '46_stereo_seq_Drosophila_embryo_E6.3',\n",
    "                '47_stereo_seq_Drosophila_embryo_E10.5',\n",
    "                '48_stereo_seq_Drosophila_embryo_E5.6'\n",
    "               ]"
   ]
  },
  {
   "cell_type": "code",
   "execution_count": 11,
   "id": "b21fac7a-26a9-4bde-a2d4-0c1fa9f55c93",
   "metadata": {},
   "outputs": [],
   "source": [
    "# # STARMap\n",
    "# dataset_list = ['49_STARmap_Wang2018_2D_zstep10_0',\n",
    "#                 '50_STARmap_Wang2018_2D_zstep15_0'\n",
    "#                ]"
   ]
  },
  {
   "cell_type": "code",
   "execution_count": 12,
   "id": "e8cee631-7b4d-4cd7-8d17-9809d2ac0732",
   "metadata": {},
   "outputs": [
    {
     "name": "stdout",
     "output_type": "stream",
     "text": [
      "44_stereo_seq_Drosophila_embryo_E7\n",
      "45_stereo_seq_Drosophila_embryo_E9.1\n",
      "46_stereo_seq_Drosophila_embryo_E6.3\n",
      "47_stereo_seq_Drosophila_embryo_E10.5\n",
      "48_stereo_seq_Drosophila_embryo_E5.6\n"
     ]
    }
   ],
   "source": [
    "for dataset in dataset_list:\n",
    "    if os.path.exists(f'{input_dir}/{dataset}.h5ad'):\n",
    "        continue\n",
    "    \n",
    "    print(dataset)\n",
    "    \n",
    "    df_loc = pd.read_csv(f\"{input_dir}/{dataset}/location.csv\", index_col=0)\n",
    "    df_count = pd.read_csv(f'{input_dir}/{dataset}/counts.csv', \n",
    "                           index_col=0).transpose()\n",
    "    \n",
    "    # obtain spatial variability (alpha) for each gene\n",
    "    df_var = pd.DataFrame(data={'feature_name': df_count.columns})\n",
    "    df_var[['gene', 'spatial_var']] = df_var['feature_name'].str.split('_', expand=True)\n",
    "    df_var = df_var.set_index('feature_name', drop=True)\n",
    "    \n",
    "    # create AnnData object\n",
    "    counts = sp.sparse.csr_matrix(df_count.values)\n",
    "    adata = ad.AnnData(counts, obs=df_loc, \n",
    "                       obsm={\"spatial\": df_loc[['spatial1', 'spatial2']].values},\n",
    "                       var=df_var, dtype=np.float32)\n",
    "    \n",
    "    sc.pp.calculate_qc_metrics(adata, percent_top=[10])\n",
    "    \n",
    "    adata.layers['counts'] = adata.X.copy()\n",
    "    spatial_key = \"spatial\"\n",
    "    library_id = \"tissue\"\n",
    "    adata.uns[spatial_key] = {library_id: {}}\n",
    "    \n",
    "    #sc.pp.normalize_total(adata)\n",
    "    #sc.pp.log1p(adata)\n",
    "    \n",
    "    adata.write_h5ad(f'{input_dir}/{dataset}.h5ad')"
   ]
  }
 ],
 "metadata": {
  "kernelspec": {
   "display_name": "Python [conda env:zl_svg]",
   "language": "python",
   "name": "conda-env-zl_svg-py"
  },
  "language_info": {
   "codemirror_mode": {
    "name": "ipython",
    "version": 3
   },
   "file_extension": ".py",
   "mimetype": "text/x-python",
   "name": "python",
   "nbconvert_exporter": "python",
   "pygments_lexer": "ipython3",
   "version": "3.10.13"
  }
 },
 "nbformat": 4,
 "nbformat_minor": 5
}
